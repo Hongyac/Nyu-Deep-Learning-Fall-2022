{
  "nbformat": 4,
  "nbformat_minor": 0,
  "metadata": {
    "colab": {
      "provenance": [],
      "collapsed_sections": [],
      "name": "dlf21_hw1_prob5_hc3540.ipynb",
      "include_colab_link": true
    },
    "kernelspec": {
      "name": "python3",
      "display_name": "Python 3"
    }
  },
  "cells": [
    {
      "cell_type": "markdown",
      "metadata": {
        "id": "view-in-github",
        "colab_type": "text"
      },
      "source": [
        "<a href=\"https://colab.research.google.com/github/Hongyac/Nyu-Deep-Learning-Fall-2022/blob/main/dlf21_hw1_prob5_hc3540.ipynb\" target=\"_parent\"><img src=\"https://colab.research.google.com/assets/colab-badge.svg\" alt=\"Open In Colab\"/></a>"
      ]
    },
    {
      "cell_type": "markdown",
      "metadata": {
        "id": "CKRRjmhbFcx7"
      },
      "source": [
        "In this problem we will train a neural network from scratch using numpy. In practice, you will never need to do this (you'd just use TensorFlow or PyTorch). But hopefully this will give us a sense of what's happening under the hood. \n",
        "\n",
        "For training/testing, we will use the standard MNIST benchmark consisting of images of handwritten images. \n",
        "\n"
      ]
    },
    {
      "cell_type": "markdown",
      "source": [
        "In the second demo, we worked with autodiff. Autodiff enables us to implicitly store how to calculate the gradient when we call backward. We implemented some basic operations (addition, multiplication, power, and ReLU). In this homework problem, you will implement backprop for more complicated operations directly. Instead of using autodiff, you will manually compute the gradient of the loss function for each parameter."
      ],
      "metadata": {
        "id": "k0Zpyb4xQNu2"
      }
    },
    {
      "cell_type": "code",
      "metadata": {
        "id": "kjvPSnDA4J_w",
        "colab": {
          "base_uri": "https://localhost:8080/",
          "height": 265
        },
        "outputId": "85590a41-5c82-4890-aa9d-53803c72391d"
      },
      "source": [
        "import tensorflow as tf\n",
        "import matplotlib.pyplot as plt\n",
        "\n",
        "(x_train, y_train), (x_test, y_test) = tf.keras.datasets.mnist.load_data(path=\"mnist.npz\")\n",
        "\n",
        "plt.imshow(x_train[0],cmap='gray');"
      ],
      "execution_count": 1,
      "outputs": [
        {
          "output_type": "display_data",
          "data": {
            "text/plain": [
              "<Figure size 432x288 with 1 Axes>"
            ],
            "image/png": "[encoded data removed]"
          },
          "metadata": {
            "needs_background": "light"
          }
        }
      ]
    },
    {
      "cell_type": "code",
      "source": [
        "type(x_train)"
      ],
      "metadata": {
        "id": "_ZmNzUnQQrLW",
        "outputId": "87181150-1d02-419e-a628-bdc6a900688b",
        "colab": {
          "base_uri": "https://localhost:8080/"
        }
      },
      "execution_count": 36,
      "outputs": [
        {
          "output_type": "execute_result",
          "data": {
            "text/plain": [
              "numpy.ndarray"
            ]
          },
          "metadata": {},
          "execution_count": 36
        }
      ]
    },
    {
      "cell_type": "markdown",
      "metadata": {
        "id": "Klx9qPmxF9jI"
      },
      "source": [
        "Loading MNIST is the only place where we will use TensorFlow; the rest of the code will be pure numpy.\n",
        "\n",
        "Let us now set up a few helper functions. We will use sigmoid activations for neurons, the softmax activation for the last layer, and the cross entropy loss."
      ]
    },
    {
      "cell_type": "code",
      "metadata": {
        "id": "sdyvaUKoF7ux"
      },
      "source": [
        "import numpy as np\n",
        "\n",
        "def sigmoid(x):\n",
        "  # Numerically stable sigmoid function based on\n",
        "  # http://timvieira.github.io/blog/post/2014/02/11/exp-normalize-trick/\n",
        "  \n",
        "  x = np.clip(x, -500, 500) # We get an overflow warning without this\n",
        "  \n",
        "  return np.where(\n",
        "    x >= 0,\n",
        "    1 / (1 + np.exp(-x)),\n",
        "    np.exp(x) / (1 + np.exp(x))\n",
        "  )\n",
        "\n",
        "def dsigmoid(x): # Derivative of sigmoid\n",
        "  return sigmoid(x) * (1 - sigmoid(x))\n",
        "\n",
        "def softmax(x):\n",
        "  # Numerically stable softmax based on (same source as sigmoid)\n",
        "  # http://timvieira.github.io/blog/post/2014/02/11/exp-normalize-trick/\n",
        "  b = x.max()\n",
        "  y = np.exp(x - b)\n",
        "  return y / y.sum()\n",
        "\n",
        "def cross_entropy_loss(y, yHat):\n",
        "  return -np.sum(y * np.log(yHat))\n",
        "\n",
        "def integer_to_one_hot(x, max):\n",
        "  # x: integer to convert to one hot encoding\n",
        "  # max: the size of the one hot encoded array\n",
        "  result = np.zeros(10)\n",
        "  result[x] = 1\n",
        "  return result"
      ],
      "execution_count": 2,
      "outputs": []
    },
    {
      "cell_type": "markdown",
      "metadata": {
        "id": "_xIZEupTHyNM"
      },
      "source": [
        "OK, we are now ready to build and train our model. The input is an image of size 28x28, and the output is one of 10 classes. So, first: \n",
        "\n",
        "Q1. Initialize a 2-hidden layer neural network with 32 neurons in each hidden layer, i.e., your layer sizes should be: \n",
        "\n",
        "784 -> 32 -> 32 -> 10\n",
        "\n",
        "If the layer is $n_{in} \\times n_{out}$ your layer weights should be initialized by sampling from a normal distribution with mean zero and variance 1/$\\max(n_{in},n_{out})$."
      ]
    },
    {
      "cell_type": "code",
      "metadata": {
        "id": "zBeGvbu6FaM_"
      },
      "source": [
        "import math\n",
        "\n",
        "# Initialize weights of each layer with a normal distribution of mean 0 and\n",
        "# standard deviation 1/sqrt(n), where n is the number of inputs.\n",
        "# This means the weighted input will be a random variable itself with mean\n",
        "# 0 and standard deviation close to 1 (if biases are initialized as 0, standard\n",
        "# deviation will be exactly 1)\n",
        "\n",
        "from numpy.random import default_rng\n",
        "\n",
        "rng = default_rng(80085)\n",
        "\n",
        "# Q1. Fill initialization code here.\n",
        "# input_size = [784, 32, 32]\n",
        "# output_size = 10\n",
        "weights = [\n",
        "    rng.normal(0, 1/math.sqrt(784), (784, 32)),\n",
        "    rng.normal(0, 1/math.sqrt(32), (32, 32)),\n",
        "    rng.normal(0, 1/math.sqrt(32), (32, 10))\n",
        "]\n",
        "biases = [np.zeros((1,32)), np.zeros((1,32)), np.zeros((1,10))]\n",
        "# ..."
      ],
      "execution_count": 3,
      "outputs": []
    },
    {
      "cell_type": "code",
      "source": [
        "len(weights)"
      ],
      "metadata": {
        "id": "3OTmhIQXXyup",
        "outputId": "a7bb021c-5cc3-401d-c08e-bc05277933bb",
        "colab": {
          "base_uri": "https://localhost:8080/"
        }
      },
      "execution_count": 18,
      "outputs": [
        {
          "output_type": "execute_result",
          "data": {
            "text/plain": [
              "3"
            ]
          },
          "metadata": {},
          "execution_count": 18
        }
      ]
    },
    {
      "cell_type": "code",
      "source": [
        "r1 = rng.normal(0,1,(1,2))\n",
        "print(r1)\n",
        "type(r1)"
      ],
      "metadata": {
        "id": "Exl4xUX77jsE",
        "outputId": "24dfb000-6ef3-402e-b995-96eb54e0445a",
        "colab": {
          "base_uri": "https://localhost:8080/"
        }
      },
      "execution_count": 20,
      "outputs": [
        {
          "output_type": "stream",
          "name": "stdout",
          "text": [
            "[[-1.93341768  0.29722412]]\n"
          ]
        },
        {
          "output_type": "execute_result",
          "data": {
            "text/plain": [
              "numpy.ndarray"
            ]
          },
          "metadata": {},
          "execution_count": 20
        }
      ]
    },
    {
      "cell_type": "markdown",
      "metadata": {
        "id": "IafUGD_VGeLh"
      },
      "source": [
        "Next, we will set up the forward pass. We will implement this by looping over the layers and successively computing the activations of each layer. \n",
        "\n",
        "Q2. Implement the forward pass for a single sample, and for the entire dataset.\n",
        "\n",
        "\n",
        "Right now, your network weights should be random, so doing a forward pass with the data should not give you any meaningful information. Therefore, in the last line, when you calculate test accuracy, it should be somewhere around 1/10 (i.e., a random guess)."
      ]
    },
    {
      "cell_type": "code",
      "metadata": {
        "id": "cd6jGroQGdOF",
        "colab": {
          "base_uri": "https://localhost:8080/"
        },
        "outputId": "74d0c29f-3f41-48fb-945b-027dda3dfdc2"
      },
      "source": [
        "from tensorflow.python.ops.gen_array_ops import one_hot\n",
        "def feed_forward_sample(sample, y):\n",
        "  \"\"\" Forward pass through the neural network.\n",
        "    Inputs:\n",
        "      sample: 1D numpy array. The input sample (an MNIST digit).\n",
        "      label: An integer from 0 to 9.\n",
        "\n",
        "    Returns: the cross entropy loss, most likely class\n",
        "  \"\"\"\n",
        "  # Q2. Fill code here.\n",
        "  # ...\n",
        "  L1 = np.dot(sample, weights[0]) + biases[0]\n",
        "  A1 = sigmoid(L1)\n",
        "  L2 = np.dot(A1, weights[1]) + biases[1]\n",
        "  A2 = sigmoid(L2)\n",
        "  L3 = np.dot(A2, weights[2]) + biases[2]\n",
        "\n",
        "  yhat = softmax(L3)\n",
        "\n",
        "  y_oneHot = integer_to_one_hot(y,10)\n",
        "  loss = cross_entropy_loss(y_oneHot, yhat)\n",
        "  one_hot_guess =  integer_to_one_hot(np.argmax(yhat),10)\n",
        "\n",
        "  return loss, one_hot_guess\n",
        "\n",
        "\n",
        "def feed_forward_dataset(x, y):\n",
        "  losses = np.empty(x.shape[0])\n",
        "  one_hot_guesses = np.empty((x.shape[0], 10))\n",
        "\n",
        "  # ...\n",
        "  # Q2. Fill code here to calculate losses, one_hot_guesses\n",
        "  for i in range(x.shape[0]):\n",
        "    lo, ohg = feed_forward_sample(np.reshape(x[i],(1,784)) ,y[i])\n",
        "    losses[i], one_hot_guesses[i] = lo, ohg\n",
        "\n",
        "  # ...\n",
        "\n",
        "  y_one_hot = np.zeros((y.size, 10))\n",
        "  y_one_hot[np.arange(y.size), y] = 1\n",
        "\n",
        "  correct_guesses = np.sum(y_one_hot * one_hot_guesses)\n",
        "  correct_guess_percent = format((correct_guesses / y.shape[0]) * 100, \".2f\")  \n",
        "\n",
        "  print(\"\\nAverage loss:\", np.round(np.average(losses), decimals=2))\n",
        "  print(\"Accuracy (# of correct guesses):\", correct_guesses, \"/\", y.shape[0], \"(\", correct_guess_percent, \"%)\")\n",
        "\n",
        "def feed_forward_training_data():\n",
        "  print(\"Feeding forward all training data...\")\n",
        "  feed_forward_dataset(x_train, y_train)\n",
        "  print(\"\")\n",
        "\n",
        "def feed_forward_test_data():\n",
        "  print(\"Feeding forward all test data...\")\n",
        "  feed_forward_dataset(x_test, y_test)\n",
        "  print(\"\")\n",
        "\n",
        "feed_forward_test_data()"
      ],
      "execution_count": 4,
      "outputs": [
        {
          "output_type": "stream",
          "name": "stdout",
          "text": [
            "Feeding forward all test data...\n",
            "\n",
            "Average loss: 2.37\n",
            "Accuracy (# of correct guesses): 880.0 / 10000 ( 8.80 %)\n",
            "\n"
          ]
        }
      ]
    },
    {
      "cell_type": "markdown",
      "metadata": {
        "id": "sSrlc2VLOi8L"
      },
      "source": [
        "OK, now we will implement the backward pass using backpropagation. We will keep it simple and just do training sample-by-sample (no minibatching, no randomness).\n",
        "\n",
        "Q3: Compute the gradient of all the weights and biases by backpropagating derivatives all the way from the output to the first layer. \n",
        "\n",
        "\n",
        "\n"
      ]
    },
    {
      "cell_type": "code",
      "metadata": {
        "id": "BLLEsVdcOgzi"
      },
      "source": [
        "from re import L\n",
        "def train_one_sample(sample, y, learning_rate=0.003):\n",
        "  a = sample.flatten()\n",
        "  a = np.reshape(a, (1, 28*28))\n",
        "  # print(a.shape ,a.T.shape)\n",
        "  # We will store each layer's activations to calculate gradient\n",
        "  activations = []\n",
        "\n",
        "  # Forward pass\n",
        "\n",
        "  # Q3. This should be the same as what you did in feed_forward_sample above.\n",
        "  # ...\n",
        "  # Layer 1 -> 2 -> 3 -> outputs\n",
        "  L1 = np.dot(a, weights[0]) + biases[0]\n",
        "  # print(L1.shape)\n",
        "  A1 = sigmoid(L1)\n",
        "  activations.append(A1)\n",
        "  L2 = np.dot(A1, weights[1]) + biases[1]\n",
        "  A2 = sigmoid(L2)\n",
        "  activations.append(A2)\n",
        "  L3 = np.dot(A2, weights[2]) + biases[2]\n",
        "  yhat = softmax(L3)\n",
        "\n",
        "  y_oneHot = integer_to_one_hot(y, 10)\n",
        "  loss = cross_entropy_loss(y_oneHot, yhat)\n",
        "  one_hot_guess = integer_to_one_hot(np.argmax(yhat), 10)\n",
        "\n",
        "  # Backward pass\n",
        "\n",
        "  # Q3. Implement backpropagation by backward-stepping gradients through each layer.\n",
        "  # You may need to be careful to make sure your Jacobian matrices are the right shape.\n",
        "  # At the end, you should get two vectors: weight_gradients and bias_gradients.\n",
        "  # ...\n",
        "  weight_gradients = []\n",
        "  bias_gradients = []\n",
        "\n",
        "  # 3 -> output layer:\n",
        "  dL3 = yhat - y_oneHot\n",
        "  dw3 = A2.T.dot(dL3)\n",
        "  db3 = dL3\n",
        "\n",
        "  # 2 -> activation -> 3 layer:\n",
        "  dA2 = dL3.dot(weights[2].T)\n",
        "  dL2 = np.multiply(dA2, dsigmoid(L2))\n",
        "  dw2 = A1.T.dot(dL2)\n",
        "  db2 = dL2\n",
        "\n",
        "  # 1 -> activation -> 2 layer:\n",
        "  dA1 = dL2.dot(weights[1].T)\n",
        "  dL1 = np.multiply(dA1, dsigmoid(L1))\n",
        "  dw1 = a.T.dot(dL1)\n",
        "  db1 = dL1\n",
        "\n",
        "  # initialize gradients\n",
        "  weight_gradients.append(dw1)\n",
        "  weight_gradients.append(dw2)\n",
        "  weight_gradients.append(dw3)\n",
        "  bias_gradients.append(db1)\n",
        "  bias_gradients.append(db2)\n",
        "  bias_gradients.append(db3)\n",
        "\n",
        "  # Update weights & biases based on your calculated gradient\n",
        "  for i in range(3):\n",
        "    weights[i] -= weight_gradients[i] * learning_rate\n",
        "    biases[i] -= bias_gradients[i].flatten() * learning_rate\n",
        "\n",
        "  return loss"
      ],
      "execution_count": 5,
      "outputs": []
    },
    {
      "cell_type": "markdown",
      "metadata": {
        "id": "6AXY27pOB9cW"
      },
      "source": [
        "Finally, train for 3 epochs by looping over the entire training dataset 3 times.\n",
        "\n",
        "Q4. Train your model for 3 epochs."
      ]
    },
    {
      "cell_type": "code",
      "metadata": {
        "id": "8Ygk05FcB-rL",
        "colab": {
          "base_uri": "https://localhost:8080/"
        },
        "outputId": "5f4ff455-141b-4123-c0e0-b1847804e936"
      },
      "source": [
        "def train_one_epoch(learning_rate=0.003):\n",
        "  print(\"Training for one epoch over the training dataset...\")\n",
        "  \n",
        "  # Q4. Write the training loop over the epoch here.\n",
        "  # ...\n",
        "  print(\"Train one epoch starts here:\")\n",
        "  for i in range(x_train.shape[0]):\n",
        "    loss = train_one_sample(x_train[i], y_train[i], learning_rate)\n",
        "    if i%2500 == 0:\n",
        "      print((i, loss))\n",
        "\n",
        "  print(\"Finished training.\\n\")\n",
        "\n",
        "\n",
        "feed_forward_test_data()\n",
        "\n",
        "def test_and_train():\n",
        "  train_one_epoch()\n",
        "  feed_forward_test_data()\n",
        "\n",
        "for i in range(3): \n",
        "  test_and_train()"
      ],
      "execution_count": 6,
      "outputs": [
        {
          "output_type": "stream",
          "name": "stdout",
          "text": [
            "Feeding forward all test data...\n",
            "\n",
            "Average loss: 2.37\n",
            "Accuracy (# of correct guesses): 880.0 / 10000 ( 8.80 %)\n",
            "\n",
            "Training for one epoch over the training dataset...\n",
            "Train one epoch starts here:\n",
            "(0, 2.551109078539101)\n",
            "(2500, 2.125926754731008)\n",
            "(5000, 1.9438812766931695)\n",
            "(7500, 1.7676314848271353)\n",
            "(10000, 1.3348524686861931)\n",
            "(12500, 1.0742160294229004)\n",
            "(15000, 1.8864688192581358)\n",
            "(17500, 1.6147523169391564)\n",
            "(20000, 1.2063270113559703)\n",
            "(22500, 0.835595569032337)\n",
            "(25000, 3.459818078430471)\n",
            "(27500, 1.5656001985418542)\n",
            "(30000, 0.5364580076360992)\n",
            "(32500, 0.21722297307096872)\n",
            "(35000, 0.13979516995103786)\n",
            "(37500, 0.4655694661676351)\n",
            "(40000, 0.6048443102521348)\n",
            "(42500, 0.5973339604303506)\n",
            "(45000, 1.7619410898883703)\n",
            "(47500, 0.7980988704163504)\n",
            "(50000, 1.4573845906873837)\n",
            "(52500, 0.8489360911553638)\n",
            "(55000, 0.7497934870691544)\n",
            "(57500, 0.21445472907093802)\n",
            "Finished training.\n",
            "\n",
            "Feeding forward all test data...\n",
            "\n",
            "Average loss: 0.96\n",
            "Accuracy (# of correct guesses): 6908.0 / 10000 ( 69.08 %)\n",
            "\n",
            "Training for one epoch over the training dataset...\n",
            "Train one epoch starts here:\n",
            "(0, 1.5668318439733222)\n",
            "(2500, 0.33608315306918624)\n",
            "(5000, 3.587600331381768)\n",
            "(7500, 0.2158286829018759)\n",
            "(10000, 0.16102030926117916)\n",
            "(12500, 0.18486217926091786)\n",
            "(15000, 0.7075911241233865)\n",
            "(17500, 1.0311565880499245)\n",
            "(20000, 0.6024809238770226)\n",
            "(22500, 0.0932212888595744)\n",
            "(25000, 3.3056740427507)\n",
            "(27500, 0.4540877059994291)\n",
            "(30000, 0.3518627610452252)\n",
            "(32500, 0.27729140071033154)\n",
            "(35000, 0.18259721072832755)\n",
            "(37500, 0.27661523601612403)\n",
            "(40000, 1.3761524063367911)\n",
            "(42500, 1.0211967793207763)\n",
            "(45000, 0.8421356808233529)\n",
            "(47500, 0.9912912773864458)\n",
            "(50000, 0.9117971705162351)\n",
            "(52500, 0.7008233526984713)\n",
            "(55000, 0.1015462077607125)\n",
            "(57500, 1.0192159055047323)\n",
            "Finished training.\n",
            "\n",
            "Feeding forward all test data...\n",
            "\n",
            "Average loss: 0.99\n",
            "Accuracy (# of correct guesses): 6578.0 / 10000 ( 65.78 %)\n",
            "\n",
            "Training for one epoch over the training dataset...\n",
            "Train one epoch starts here:\n",
            "(0, 0.5996612250560742)\n",
            "(2500, 0.14632560171577877)\n",
            "(5000, 0.3702008931634517)\n",
            "(7500, 0.14442838581754644)\n",
            "(10000, 0.30524829443906937)\n",
            "(12500, 0.049787413741483835)\n",
            "(15000, 1.5619665145564579)\n",
            "(17500, 2.1167306966925388)\n",
            "(20000, 0.37409453440673723)\n",
            "(22500, 0.7259484954022521)\n",
            "(25000, 5.323749569070499)\n",
            "(27500, 0.7637645897220908)\n",
            "(30000, 0.04870479387520231)\n",
            "(32500, 0.5779590321757846)\n",
            "(35000, 0.07602595516030844)\n",
            "(37500, 0.15788635994265005)\n",
            "(40000, 2.0806257945191478)\n",
            "(42500, 0.34550313128514804)\n",
            "(45000, 0.3457232466615433)\n",
            "(47500, 0.32424295556457483)\n",
            "(50000, 0.8593703971212183)\n",
            "(52500, 0.6137836095140902)\n",
            "(55000, 0.1005224236971299)\n",
            "(57500, 0.08888516974079079)\n",
            "Finished training.\n",
            "\n",
            "Feeding forward all test data...\n",
            "\n",
            "Average loss: 0.89\n",
            "Accuracy (# of correct guesses): 6815.0 / 10000 ( 68.15 %)\n",
            "\n"
          ]
        }
      ]
    },
    {
      "cell_type": "markdown",
      "metadata": {
        "id": "IKzEn_lyCAIe"
      },
      "source": [
        "\n",
        "That's it! \n",
        "\n",
        "Your code is probably very time- and memory-inefficient; that's ok. There is a ton of optimization under the hood in professional deep learning frameworks which we won't get into.\n",
        "\n",
        "If everything is working well, you should be able to raise the accuracy from ~10% to ~70% accuracy after 3 epochs."
      ]
    }
  ]
}